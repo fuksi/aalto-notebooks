{
 "cells": [
  {
   "cell_type": "code",
   "execution_count": 1,
   "metadata": {},
   "outputs": [
    {
     "name": "stdout",
     "output_type": "stream",
     "text": [
      " Volume in drive C is OSDisk\n",
      " Volume Serial Number is 24F5-533F\n",
      "\n",
      " Directory of C:\\Repos\\aalto-notebooks\\pat\n",
      "\n",
      "10/10/2018  10:31 PM    <DIR>          .\n",
      "10/10/2018  10:31 PM    <DIR>          ..\n",
      "10/10/2018  10:31 PM    <DIR>          .ipynb_checkpoints\n",
      "10/10/2018  10:31 PM            13,741 Learning Jupyter.ipynb\n",
      "10/10/2018  10:31 PM                72 Untitled.ipynb\n",
      "               2 File(s)         13,813 bytes\n",
      "               3 Dir(s)  79,775,367,168 bytes free\n"
     ]
    }
   ],
   "source": [
    "%ls\n"
   ]
  }
 ],
 "metadata": {
  "kernelspec": {
   "display_name": "Python 3",
   "language": "python",
   "name": "python3"
  },
  "language_info": {
   "codemirror_mode": {
    "name": "ipython",
    "version": 3
   },
   "file_extension": ".py",
   "mimetype": "text/x-python",
   "name": "python",
   "nbconvert_exporter": "python",
   "pygments_lexer": "ipython3",
   "version": "3.6.4"
  }
 },
 "nbformat": 4,
 "nbformat_minor": 2
}
