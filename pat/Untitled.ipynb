{
 "cells": [
  {
   "cell_type": "code",
   "execution_count": 1,
   "metadata": {},
   "outputs": [
    {
     "name": "stdout",
     "output_type": "stream",
     "text": [
      " Volume in drive C has no label.\n",
      " Volume Serial Number is 8689-A1E4\n",
      "\n",
      " Directory of C:\\Users\\phuct\\Repos\\aalto-notebooks\\pat\n",
      "\n",
      "11/10/2018  10.05    <DIR>          .\n",
      "11/10/2018  10.05    <DIR>          ..\n",
      "11/10/2018  10.04    <DIR>          .ipynb_checkpoints\n",
      "11/10/2018  10.04            13Â 991 Learning Jupyter.ipynb\n",
      "11/10/2018  10.07               183 Pipfile\n",
      "11/10/2018  10.05               453 Pipfile.lock\n",
      "11/10/2018  10.04             1Â 309 Untitled.ipynb\n",
      "               4 File(s)         15Â 936 bytes\n",
      "               3 Dir(s)  72Â 631Â 402Â 496 bytes free\n"
     ]
    }
   ],
   "source": [
    "%ls\n"
   ]
  },
  {
   "cell_type": "code",
   "execution_count": null,
   "metadata": {},
   "outputs": [],
   "source": []
  }
 ],
 "metadata": {
  "kernelspec": {
   "display_name": "Python 3",
   "language": "python",
   "name": "python3"
  },
  "language_info": {
   "codemirror_mode": {
    "name": "ipython",
    "version": 3
   },
   "file_extension": ".py",
   "mimetype": "text/x-python",
   "name": "python",
   "nbconvert_exporter": "python",
   "pygments_lexer": "ipython3",
   "version": "3.7.0"
  }
 },
 "nbformat": 4,
 "nbformat_minor": 2
}
